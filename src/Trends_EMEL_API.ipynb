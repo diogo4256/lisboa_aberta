{
 "cells": [
  {
   "cell_type": "code",
   "execution_count": 1,
   "metadata": {},
   "outputs": [],
   "source": [
    "import requests\n",
    "from datetime import datetime, timedelta\n",
    "\n",
    "# Help me plot the data so i can see trends\n",
    "\n",
    "import matplotlib.pyplot as plt\n",
    "import numpy as np\n",
    "\n",
    "import json\n",
    "\n",
    "import calendar\n",
    "import os\n",
    "\n",
    "os.chdir('..')\n"
   ]
  },
  {
   "cell_type": "code",
   "execution_count": 2,
   "metadata": {},
   "outputs": [],
   "source": [
    "\n",
    "# Define the endpoint\n",
    "url_trips = \"https://opendata.emel.pt/cycling/gira/statistics/trips\"\n",
    "url_usage = \"https://opendata.emel.pt/cycling/gira/statistics/usage\"\n",
    "\n",
    "# Create the outputs folder if it doesn't exist\n",
    "if not os.path.exists('outputs'):\n",
    "    os.makedirs('outputs')\n",
    "    \n",
    "if not os.path.exists('data'):\n",
    "    os.makedirs('data')\n",
    "    os.makedirs('data/trips/')\n",
    "    os.makedirs('data/usage/')"
   ]
  },
  {
   "cell_type": "code",
   "execution_count": 67,
   "metadata": {},
   "outputs": [],
   "source": [
    "# Define the start and end years\n",
    "start_year = 2016\n",
    "current_year = datetime.now().year\n"
   ]
  },
  {
   "cell_type": "code",
   "execution_count": 3,
   "metadata": {},
   "outputs": [
    {
     "ename": "NameError",
     "evalue": "name 'start_year' is not defined",
     "output_type": "error",
     "traceback": [
      "\u001b[0;31m---------------------------------------------------------------------------\u001b[0m",
      "\u001b[0;31mNameError\u001b[0m                                 Traceback (most recent call last)",
      "\u001b[1;32m/Users/diogoadegas/Documents/Diogo/Projects/Lisboa/Emel_API/src/Trends_EMEL_API.ipynb Cell 4\u001b[0m line \u001b[0;36m2\n\u001b[1;32m      <a href='vscode-notebook-cell:/Users/diogoadegas/Documents/Diogo/Projects/Lisboa/Emel_API/src/Trends_EMEL_API.ipynb#W3sZmlsZQ%3D%3D?line=0'>1</a>\u001b[0m \u001b[39m# Loop over the years\u001b[39;00m\n\u001b[0;32m----> <a href='vscode-notebook-cell:/Users/diogoadegas/Documents/Diogo/Projects/Lisboa/Emel_API/src/Trends_EMEL_API.ipynb#W3sZmlsZQ%3D%3D?line=1'>2</a>\u001b[0m \u001b[39mfor\u001b[39;00m year \u001b[39min\u001b[39;00m \u001b[39mrange\u001b[39m(start_year, current_year \u001b[39m+\u001b[39m \u001b[39m1\u001b[39m):  \u001b[39m# Ensure we don't request future years\u001b[39;00m\n\u001b[1;32m      <a href='vscode-notebook-cell:/Users/diogoadegas/Documents/Diogo/Projects/Lisboa/Emel_API/src/Trends_EMEL_API.ipynb#W3sZmlsZQ%3D%3D?line=2'>3</a>\u001b[0m     \u001b[39m# Define the dateFrom and dateTo parameters\u001b[39;00m\n\u001b[1;32m      <a href='vscode-notebook-cell:/Users/diogoadegas/Documents/Diogo/Projects/Lisboa/Emel_API/src/Trends_EMEL_API.ipynb#W3sZmlsZQ%3D%3D?line=3'>4</a>\u001b[0m     dateFrom \u001b[39m=\u001b[39m \u001b[39mf\u001b[39m\u001b[39m\"\u001b[39m\u001b[39m01-01-\u001b[39m\u001b[39m{\u001b[39;00myear\u001b[39m}\u001b[39;00m\u001b[39m\"\u001b[39m\n\u001b[1;32m      <a href='vscode-notebook-cell:/Users/diogoadegas/Documents/Diogo/Projects/Lisboa/Emel_API/src/Trends_EMEL_API.ipynb#W3sZmlsZQ%3D%3D?line=4'>5</a>\u001b[0m     dateTo \u001b[39m=\u001b[39m \u001b[39mf\u001b[39m\u001b[39m\"\u001b[39m\u001b[39m31-12-\u001b[39m\u001b[39m{\u001b[39;00myear\u001b[39m}\u001b[39;00m\u001b[39m\"\u001b[39m\n",
      "\u001b[0;31mNameError\u001b[0m: name 'start_year' is not defined"
     ]
    }
   ],
   "source": [
    "# Loop over the years\n",
    "for year in range(start_year, current_year + 1):  # Ensure we don't request future years\n",
    "    # Define the dateFrom and dateTo parameters\n",
    "    dateFrom = f\"01-01-{year}\"\n",
    "    dateTo = f\"31-12-{year}\"\n",
    "\n",
    "    # Ensure end time is not earlier than start time\n",
    "    if datetime.strptime(dateTo, \"%d-%m-%Y\") < datetime.strptime(dateFrom, \"%d-%m-%Y\"):\n",
    "        print(f\"End time is earlier than start time for {year}. Skipping this year.\")\n",
    "        continue\n",
    "\n",
    "    # Define the query parameters\n",
    "    params = {\"dateFrom\": dateFrom, \"dateTo\": dateTo}  # Ensure both skip and limit are defined\n",
    "\n",
    "    # Make the GET request\n",
    "    response = requests.get(url_trips, params=params)\n",
    "\n",
    "    # Check the response\n",
    "    if response.status_code == 200:\n",
    "        # Print the statistics for this year into a file\n",
    "        with open(f\"data/trips/statistics_{year}.json\", \"w\") as file:\n",
    "            file.write(response.text)\n",
    "    else:\n",
    "        print(f\"Failed to get statistics for {year}. Status code: {response.status_code}\")\n",
    "        \n"
   ]
  },
  {
   "cell_type": "code",
   "execution_count": null,
   "metadata": {},
   "outputs": [],
   "source": [
    "# Loop over the years\n",
    "for year in range(start_year, current_year + 1):  # Ensure we don't request future years\n",
    "    # Define the dateFrom and dateTo parameters\n",
    "    dateFrom = f\"01-01-{year}\"\n",
    "    dateTo = f\"31-12-{year}\"\n",
    "\n",
    "    # Ensure end time is not earlier than start time\n",
    "    if datetime.strptime(dateTo, \"%d-%m-%Y\") < datetime.strptime(dateFrom, \"%d-%m-%Y\"):\n",
    "        print(f\"End time is earlier than start time for {year}. Skipping this year.\")\n",
    "        continue\n",
    "\n",
    "    # Define the query parameters\n",
    "    params = {\"dateFrom\": dateFrom, \"dateTo\": dateTo}  # Ensure both skip and limit are defined\n",
    "\n",
    "    # Make the GET request\n",
    "    response = requests.get(url_usage, params=params)\n",
    "\n",
    "    # Check the response\n",
    "    if response.status_code == 200:\n",
    "        # Print the statistics for this year into a file\n",
    "        with open(f\"data/usage/statistics_{year}.json\", \"w\") as file:\n",
    "            file.write(response.text)\n",
    "        print(f\"Got usage for {year}\")\n",
    "    else:\n",
    "        print(f\"Failed to get usage for {year}. Status code: {response.status_code}\")"
   ]
  },
  {
   "cell_type": "code",
   "execution_count": null,
   "metadata": {},
   "outputs": [],
   "source": [
    "# Cross the startdate with the day of the week, and make a graph for each year\n",
    "# Loop over the years crossing both files and the days of the week to plot the data\n",
    "\n",
    "for year in range(start_year, current_year + 1):  # Ensure we don't request future years\n",
    "    # Open the statistics file\n",
    "    with open(f\"data/trips/statistics_{year}.json\", \"r\") as file:\n",
    "        statistics = json.load(file)\n",
    "    \n",
    "    # Open the usage file\n",
    "    with open(f\"data/usage/statistics_{year}.json\", \"r\") as file:\n",
    "        usage = json.load(file)\n",
    "    \n",
    "    # Create a dictionary to store the data\n",
    "    data = {}\n",
    "    \n",
    "    # Loop over the statistics and usage\n",
    "    for stat, use in zip(statistics, usage):\n",
    "        # Get the start date and the day of the week\n",
    "        start_date = datetime.strptime(stat[\"tripStartDate\"], \"%d-%m-%Y\")\n",
    "        day_of_week = start_date.weekday()\n",
    "        \n",
    "        # Add the data to the dictionary\n",
    "        if day_of_week not in data:\n",
    "            data[day_of_week] = {\"statistics\": [], \"usage\": []}\n",
    "        \n",
    "        data[day_of_week][\"statistics\"].append(stat)\n",
    "        data[day_of_week][\"usage\"].append(use)\n",
    "    \n",
    "    days = sorted(data.keys())\n",
    "    trips = [np.mean([use[\"userQtyUnique\"] for use in data[day][\"usage\"]]) for day in days]\n",
    "    duration = [np.mean([stat[\"avgTripSeconds\"] for stat in data[day][\"statistics\"]]) / 60 for day in days]\n",
    "    \n",
    "    # Create the plot\n",
    "    fig, ax1 = plt.subplots(figsize=(10, 5))\n",
    "\n",
    "    # Plot the number of trips on the first y-axis\n",
    "    ax1.plot([calendar.day_name[day] for day in days], trips, label=\"Users\", color='tab:blue')\n",
    "    ax1.set_ylabel('Number of Users', color='tab:blue')\n",
    "    ax1.tick_params(axis='y', labelcolor='tab:blue')\n",
    "\n",
    "    # Create a second y-axis that shares the same x-axis\n",
    "    ax2 = ax1.twinx()\n",
    "\n",
    "    # Plot the duration on the second y-axis\n",
    "    ax2.plot([calendar.day_name[day] for day in days], duration, label=\"Duration\", color='tab:red')\n",
    "    ax2.set_ylabel('Duration (minutes)', color='tab:red')\n",
    "    ax2.tick_params(axis='y', labelcolor='tab:red')\n",
    "\n",
    "    # Set the title\n",
    "    fig.suptitle(f\"Year {year}\")\n",
    "\n",
    "    # Save the plot in the outputs folder\n",
    "    plt.savefig(f\"outputs/year_{year}.png\")\n",
    "    plt.close()\n"
   ]
  }
 ],
 "metadata": {
  "kernelspec": {
   "display_name": "Lisboa",
   "language": "python",
   "name": "python3"
  },
  "language_info": {
   "codemirror_mode": {
    "name": "ipython",
    "version": 3
   },
   "file_extension": ".py",
   "mimetype": "text/x-python",
   "name": "python",
   "nbconvert_exporter": "python",
   "pygments_lexer": "ipython3",
   "version": "3.12.3"
  }
 },
 "nbformat": 4,
 "nbformat_minor": 2
}
