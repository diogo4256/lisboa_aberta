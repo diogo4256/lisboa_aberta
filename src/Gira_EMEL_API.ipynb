{
 "cells": [
  {
   "cell_type": "code",
   "execution_count": 2,
   "metadata": {},
   "outputs": [],
   "source": [
    "# Import necessary libraries\n",
    "\n",
    "import requests\n",
    "import json\n",
    "from datetime import datetime"
   ]
  },
  {
   "cell_type": "code",
   "execution_count": 3,
   "metadata": {},
   "outputs": [],
   "source": [
    "# Define the URL and headers\n",
    "url = \"https://opendata.emel.pt/cycling/gira/station/list\"\n",
    "headers = {\"accept\": \"text/plain\"}"
   ]
  },
  {
   "cell_type": "code",
   "execution_count": 4,
   "metadata": {},
   "outputs": [],
   "source": [
    "# Send the request and parse the response\n",
    "response = requests.get(url, headers=headers)\n",
    "data = json.loads(response.text)"
   ]
  },
  {
   "cell_type": "code",
   "execution_count": 8,
   "metadata": {},
   "outputs": [],
   "source": [
    "# Define the specific date\n",
    "specific_date = datetime.strptime(\"2022-01-01 00:00\", \"%Y-%m-%d %H:%M\")  # replace with your specific date\n",
    "\n",
    "# Filter the data\n",
    "filtered_data = [item for item in data if item.get('aberturadt') and datetime.strptime(item.get('aberturadt'), \"%d-%m-%Y %H:%M\") > specific_date]\n"
   ]
  },
  {
   "cell_type": "code",
   "execution_count": null,
   "metadata": {},
   "outputs": [],
   "source": [
    "# Save the filtered data\n",
    "with open('station_list.json', 'w') as f:\n",
    "    json.dump(filtered_data, f)\n",
    "    \n",
    "# Print Dates that passed the filter\n",
    "for item in filtered_data:\n",
    "    print(item.get('aberturadt'))"
   ]
  },
  {
   "cell_type": "code",
   "execution_count": null,
   "metadata": {},
   "outputs": [],
   "source": [
    "# Get the station ID's \n",
    "\n",
    "station_ids = [item.get('id_expl') for item in filtered_data]\n",
    "\n",
    "print(station_ids)"
   ]
  }
 ],
 "metadata": {
  "kernelspec": {
   "display_name": "Lisboa",
   "language": "python",
   "name": "python3"
  },
  "language_info": {
   "codemirror_mode": {
    "name": "ipython",
    "version": 3
   },
   "file_extension": ".py",
   "mimetype": "text/x-python",
   "name": "python",
   "nbconvert_exporter": "python",
   "pygments_lexer": "ipython3",
   "version": "3.12.3"
  }
 },
 "nbformat": 4,
 "nbformat_minor": 2
}
